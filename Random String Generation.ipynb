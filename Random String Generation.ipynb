{
 "cells": [
  {
   "cell_type": "markdown",
   "metadata": {},
   "source": [
    "This file was published in the blog article: \n",
    "\n",
    "Gonçalves, Carlos Pedro, 2020, \"Quantum Random String Generator using IBM's Quantum Computers\" https://qexperiments.blogspot.com/2020/06/quantum-random-string-generator-using.html.\n",
    "\n",
    "Our goal to use quantum computers to produce a random binary string, where each bit in the string is randomly chosen. In cryptography, the generation of random strings, and random numbers in general, is an important application, quantum Computers can be applied to random string generation, using the computer as a random number generator, taking advantage of the \"statistically observed\" \"quantum randomness\".\n",
    "\n",
    "So far we have worked our examples only using the circuit composer. In this article we work with Qiskit functionalities, our goal is to use the Python programming language and the package Qiskit to build a quantum random binary string generator, taking advantage of quantum parallelism and \"quantum randomness\", thus, to get a string of size $N$ we use $N$ quantum registers.\n",
    "\n",
    "The first step is to import the main functionalities. which is done next:"
   ]
  },
  {
   "cell_type": "code",
   "execution_count": 3,
   "metadata": {},
   "outputs": [],
   "source": [
    "%matplotlib inline\n",
    "# Importing standard Qiskit libraries and configuring account\n",
    "from qiskit import QuantumCircuit, execute, Aer, IBMQ\n",
    "from qiskit.visualization import *\n",
    "import numpy as np\n",
    "# Loading your IBM Q account(s)\n",
    "provider = IBMQ.load_account()"
   ]
  },
  {
   "cell_type": "markdown",
   "metadata": {},
   "source": [
    "Having imported what we need, we are now ready to define the two main functions in the Python programming language.\n",
    "\n",
    "The first function is the \"setup_circuit\" function that sets the quantum circuit so that each quantum register works as a basic coin. Which means that if our intended random binary string is of size $N$ we need the same number of quantum registers and the same number of classical registers.\n",
    "\n",
    "Each quantum register will undergo an independent Haddamard transform and then it is measured, which makes the circuit generate each bit with a 1/2 probability (a point to which we will return further on).\n",
    "\n",
    "The first function takes as inputs the string size and the backend on which to run the program and returns: \n",
    "\n",
    "a) The device on which the circuit will be run (this is needed for the cloud access to IBM's quantum devices);\n",
    "\n",
    "b) The quantum circuit that is to be run.\n",
    "\n",
    "The second function, which we called \"get_string\" takes as inputs the device, the circuit and the number of shots. Now, if the number of shots is set to 1, the \"get_string\" function uses the cloud access to run the quantum circuit with one single shot (one single experiment), printing the binary string. If the number of shots is set to more than 1, the function prints the counts results and returns the counts for further processing.\n",
    "\n",
    "In the Python code, we wrote the comments as pedagogical notes to provide an added explanation into the main structure of the code."
   ]
  },
  {
   "cell_type": "code",
   "execution_count": 19,
   "metadata": {},
   "outputs": [],
   "source": [
    "\n",
    "# Setup the circuit function\n",
    "def setup_circuit(size_string, # size of random string\n",
    "                 backend='qasm_simulator' # backend to be used, default is set to 'qasm_simulator'\n",
    "                 ):\n",
    "    \n",
    "    # Get backend\n",
    "    if backend == 'qasm_simulator':\n",
    "        device = Aer.get_backend(backend) # use Aer if the backend is the 'qasm_simulator' (default)\n",
    "    else:\n",
    "        device = provider.get_backend(backend) # use the provider otherwise\n",
    "\n",
    "    \n",
    "    # Setup the circuit (in the circuit we need the same number of quantum and classical registers)\n",
    "    circuit = QuantumCircuit(size_string,size_string)\n",
    "    \n",
    "    # We use a for loop to setup the quantum gates \n",
    "    # so that for each quantum register apply the Haddamard transform, this is the unitary\n",
    "    # evolution stage\n",
    "    for i in range(0,size_string):\n",
    "        circuit.h(i)\n",
    "    \n",
    "    # We use another for loop to setup the measurement process\n",
    "    for i in range(0,size_string):\n",
    "        circuit.measure(i,i)\n",
    "    \n",
    "    # Return the device for implementing this circuit and the circuit with the above structure\n",
    "    return device, circuit\n",
    "\n",
    "# Get the string function\n",
    "def get_string(device, circuit, num_shots):\n",
    "\n",
    "    # Execute the circuit on the device for the number of shots defined\n",
    "    job = execute(circuit, device, shots=num_shots)\n",
    "    \n",
    "    # Get the results\n",
    "    result = job.result()\n",
    "    \n",
    "    # Get the counts\n",
    "    counts = result.get_counts(circuit)\n",
    "    \n",
    "    # Either print statistical results for the problem or return a single random string\n",
    "    if num_shots > 1:\n",
    "        # If the number of shots is greater than 1 print the counts and return the counts\n",
    "        # for further processing, for instance, plotting or calculating other statistics\n",
    "        print(counts)\n",
    "        return counts\n",
    "        \n",
    "    else:\n",
    "        # If the number of shots is equal to 1, then, the print the single randomly generated string\n",
    "        for key in counts.keys():\n",
    "            if counts[key] == 1:\n",
    "                print(key)\n",
    "                break\n"
   ]
  },
  {
   "cell_type": "markdown",
   "metadata": {},
   "source": [
    "Having defined the functions, we are now ready to implement our Qiskit Python code. The first example that we provide is the generation of a random string with 100 digits. We cannot run this on the actual IBM physical devices, since it has more quantum registers than the available devices, which means that, in this first example, we will work with the simulator, which is used by default in our defined Python functions."
   ]
  },
  {
   "cell_type": "code",
   "execution_count": 18,
   "metadata": {},
   "outputs": [
    {
     "name": "stdout",
     "output_type": "stream",
     "text": [
      "0011000101100001001100100101110110001110011110110110010101111100010000110010100100001100111111010010\n"
     ]
    }
   ],
   "source": [
    "# Setup the string\n",
    "device, circuit = setup_circuit(100)\n",
    "\n",
    "# Run the string\n",
    "get_string(device,circuit,num_shots=1)"
   ]
  },
  {
   "cell_type": "markdown",
   "metadata": {},
   "source": [
    "The following experiment is run on the Burlington device, which is a 5 qubit actual quantum computer. In this experiment we use the five registers for a random generation of a 5 bit string."
   ]
  },
  {
   "cell_type": "code",
   "execution_count": 20,
   "metadata": {},
   "outputs": [
    {
     "name": "stdout",
     "output_type": "stream",
     "text": [
      "00101\n"
     ]
    }
   ],
   "source": [
    "device, circuit = setup_circuit(5,'ibmq_burlington')\n",
    "\n",
    "get_string(device,circuit,num_shots=1)"
   ]
  },
  {
   "cell_type": "markdown",
   "metadata": {},
   "source": [
    "To get a string larger than 5, we need a quantum computer with a larger number of qubits, the next experiment works with the Melbourne device and extracts a random string of 5 qubits."
   ]
  },
  {
   "cell_type": "code",
   "execution_count": 21,
   "metadata": {},
   "outputs": [
    {
     "name": "stdout",
     "output_type": "stream",
     "text": [
      "111000110000001\n"
     ]
    }
   ],
   "source": [
    "device, circuit = setup_circuit(15,'ibmq_16_melbourne')\n",
    "\n",
    "get_string(device,circuit,num_shots=1)"
   ]
  },
  {
   "cell_type": "markdown",
   "metadata": {},
   "source": [
    "Let us now generate multiple strings of size 6, running the program on a quantum computer with multiple shots to see the statistical results that we may get from running the quantum program multiple times. We are still using the Melbourne device."
   ]
  },
  {
   "cell_type": "code",
   "execution_count": 25,
   "metadata": {
    "scrolled": false
   },
   "outputs": [
    {
     "name": "stdout",
     "output_type": "stream",
     "text": [
      "{'110010': 11, '100010': 13, '000101': 27, '100110': 12, '111111': 9, '010100': 21, '100001': 20, '011110': 14, '111011': 6, '101000': 17, '011111': 10, '011000': 21, '010110': 22, '101101': 20, '101111': 13, '110110': 20, '001001': 12, '001110': 24, '010010': 14, '100100': 10, '101100': 13, '001011': 19, '001101': 19, '001000': 16, '000100': 22, '000010': 27, '100000': 22, '000011': 22, '111000': 11, '000111': 22, '110000': 7, '001100': 13, '100111': 16, '010001': 15, '010000': 19, '010011': 10, '110011': 10, '000110': 27, '001010': 13, '100011': 16, '001111': 16, '111001': 12, '111101': 9, '111100': 11, '011001': 13, '100101': 14, '110001': 6, '010111': 15, '110100': 17, '000001': 32, '000000': 35, '101010': 10, '110111': 11, '011010': 10, '011101': 13, '111110': 11, '010101': 11, '101011': 14, '101110': 20, '011100': 15, '101001': 17, '111010': 11, '110101': 11, '011011': 11}\n"
     ]
    }
   ],
   "source": [
    "device, circuit = setup_circuit(6,'ibmq_16_melbourne')\n",
    "\n",
    "counts = get_string(device,circuit,num_shots=1000)"
   ]
  },
  {
   "cell_type": "markdown",
   "metadata": {},
   "source": [
    "Now, with the Burlington device and three qubit registers, the following code calculates the Histogram, using the get_string function to print and get the counts that are then used to plot the histogram."
   ]
  },
  {
   "cell_type": "code",
   "execution_count": 14,
   "metadata": {
    "scrolled": false
   },
   "outputs": [
    {
     "name": "stdout",
     "output_type": "stream",
     "text": [
      "{'001': 1208, '111': 957, '100': 985, '010': 994, '101': 987, '110': 894, '011': 1066, '000': 1101}\n"
     ]
    },
    {
     "data": {
      "image/png": "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\n",
      "text/plain": [
       "<Figure size 504x360 with 1 Axes>"
      ]
     },
     "execution_count": 14,
     "metadata": {},
     "output_type": "execute_result"
    }
   ],
   "source": [
    "device, circuit = setup_circuit(3,'ibmq_burlington')\n",
    "\n",
    "counts = get_string(device,circuit,num_shots=8192)\n",
    "\n",
    "plot_histogram(counts)"
   ]
  },
  {
   "cell_type": "markdown",
   "metadata": {},
   "source": [
    "While there are some differences in the above histogram's bars, the results are close to $(1/2)^3=0.125$, the difference is due to the fact that a sample of experiments is being plotted, as the number of experiments rises, the relative frequencies will tend to the true probability $(1/2)^N$. We can see this convergence occurring more for a lower string size, as the following experiment shows."
   ]
  },
  {
   "cell_type": "code",
   "execution_count": 15,
   "metadata": {},
   "outputs": [
    {
     "name": "stdout",
     "output_type": "stream",
     "text": [
      "{'01': 2031, '00': 2129, '10': 1823, '11': 2209}\n"
     ]
    },
    {
     "data": {
      "image/png": "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\n",
      "text/plain": [
       "<Figure size 504x360 with 1 Axes>"
      ]
     },
     "execution_count": 15,
     "metadata": {},
     "output_type": "execute_result"
    }
   ],
   "source": [
    "device, circuit = setup_circuit(2,'ibmq_burlington')\n",
    "\n",
    "counts = get_string(device,circuit,num_shots=8192)\n",
    "\n",
    "plot_histogram(counts)"
   ]
  },
  {
   "cell_type": "markdown",
   "metadata": {},
   "source": [
    "Let us now write a new function, in this case, to calculate the experimental entropy for repeated runs of the circuit. \n",
    "\n",
    "The first point that we need to stress is that, for the ideal system, where the unitary evolution holds perfectly, which corresponds to the case of the ideal computer without errors, the entropy is null for the pure density that results from the unitary evolution stage. Given the circuit's structure, where the evolution for each quantum register is independent, we can address the process in terms of the local evolution for each register, which, in this circuit, is the same for each of them.\n",
    "\n",
    "First, under the unitary evolution, each register's quantum dynamics leads to an equally weighted superposition of |0> and |1>, which is described by the symmetric ket $ |+> = (|0> + |1>)/sqrt(2) $, which, expressed as a density operator, leads to the local transition for each quantum register:\n",
    "\n",
    "$ |0><0| -> |+><+| = (|0><0| + |0><1| + |1><0| + |1><1|)/sqrt(2)   $\n",
    "\n",
    "Now, considering the \"classical register\" for each quantum register, which corresponds to our measurement apparatus and including, in our description, the \"rest of the world\" that we write as \"World\", the quantum measurement leads to the following density after measurement:\n",
    "\n",
    "$ A = |+,C,World><+,C,World| $, \n",
    "\n",
    "where the ket |+,C,World> is the entangled result: \n",
    "\n",
    "$ |+,C,World> = (|0,C_0,World_0>+|1,C_1,World_1>)/sqrt(2) $.\n",
    "\n",
    "Now, since we are part of the rest of the world and we only see the results from the classical register, we can address our knowledge in terms of the register plus rest of the world configuration, which leads to the reduced density:\n",
    "\n",
    "$ R = 0.5*|C_0,World_0><C_0,World_0|+0.5*|C_1,World_1><C_1,World_1| $\n",
    "\n",
    "Therefore, we have a classical mixture with one branch corresponding to a world where the classical register (measurement device) registers the value '0' which is returned and seen by us, and a world where the classical register (measurement device) registers the value '1' which is returned and seen by us. The resulting von Neumann entropy, measured in the base 2, for this last density, is equal to 1 bit, which is a maximum entropy value.\n",
    "\n",
    "Likewise, if we consider all of the registers then we get the tensor product of $N$ copies of the density R, leading to an entropy equal to $N$ bits, therefore, each register's (measurement) results are similar to an idealized balanced coin, and the $N$ registers behave similar to $N$ coin tosses, or, in this case, $N$ coins being tossed.\n",
    "\n",
    "It's important to stress that, different interpretations of quantum mechanics will interpret the above results differently, however, we will not be discussing here these different interpretations, we are mostly interested, from a quantum cybersecurity applications' standpoint, in testing the randomness of the experimental process, namely, we want to test whether the distribution over the binary strings obtained from the measurement process is effectively close to the maximum entropy result, which indicates that the quantum computer does what we wanted, that is, to produce strings of binary digits that behave like the result of an \"idealized\" balanced coin toss.\n",
    "\n",
    "The following Python allows us to obtain this evaluation.\n"
   ]
  },
  {
   "cell_type": "code",
   "execution_count": 5,
   "metadata": {},
   "outputs": [],
   "source": [
    "def calculate_entropy(device,circuit,num_shots):\n",
    "     # Execute the circuit on the device for the number of shots defined\n",
    "    job = execute(circuit, device, shots=num_shots)\n",
    "    \n",
    "    # Get the results\n",
    "    result = job.result()\n",
    "    \n",
    "    # Returns counts\n",
    "    counts = result.get_counts(circuit)\n",
    "    \n",
    "    # Calculate and print the entropy\n",
    "    \n",
    "    H=0\n",
    "    \n",
    "    for key in counts.keys():\n",
    "        p=counts[key]/num_shots\n",
    "        if p != 0:\n",
    "            x = -p*np.log(p)/np.log(2)\n",
    "        H += x\n",
    "    \n",
    "    print(\"Entropy value\", H)"
   ]
  },
  {
   "cell_type": "markdown",
   "metadata": {},
   "source": [
    "Let us now run the function for a quantum single register, on the Burlington device."
   ]
  },
  {
   "cell_type": "code",
   "execution_count": 16,
   "metadata": {},
   "outputs": [
    {
     "name": "stdout",
     "output_type": "stream",
     "text": [
      "Entropy value 0.999966291137892\n"
     ]
    }
   ],
   "source": [
    "device, circuit = setup_circuit(1,'ibmq_burlington')\n",
    "\n",
    "calculate_entropy(device,circuit,num_shots=8192)"
   ]
  },
  {
   "cell_type": "markdown",
   "metadata": {},
   "source": [
    "The value obtained in our run was 0.999966291137892, slightly lower but very close to 1 bit. Let us now run the experiment for 2 registers"
   ]
  },
  {
   "cell_type": "code",
   "execution_count": 17,
   "metadata": {
    "scrolled": true
   },
   "outputs": [
    {
     "name": "stdout",
     "output_type": "stream",
     "text": [
      "Entropy value 1.9976699397719135\n"
     ]
    }
   ],
   "source": [
    "device, circuit = setup_circuit(2,'ibmq_burlington')\n",
    "\n",
    "calculate_entropy(device,circuit,num_shots=8192)"
   ]
  },
  {
   "cell_type": "markdown",
   "metadata": {},
   "source": [
    "In this case, we got the number 1.9976699397719135, which is also lower but close to 2 bits. For a Final experiment let us run the circuit with 6 registers, on both the \"qasm\" simulator and the Melbourne device. In the case of the \"qasm\" we use 100,000 repeated trials, in the case of the Melbourne device we will use 8,192, which is the largest value that we can set."
   ]
  },
  {
   "cell_type": "code",
   "execution_count": 10,
   "metadata": {
    "scrolled": false
   },
   "outputs": [
    {
     "name": "stdout",
     "output_type": "stream",
     "text": [
      "Entropy value 5.999594101018126\n"
     ]
    }
   ],
   "source": [
    "device, circuit = setup_circuit(6)\n",
    "\n",
    "calculate_entropy(device,circuit,num_shots=100000)"
   ]
  },
  {
   "cell_type": "code",
   "execution_count": 11,
   "metadata": {
    "scrolled": true
   },
   "outputs": [
    {
     "name": "stdout",
     "output_type": "stream",
     "text": [
      "Entropy value 5.980928055437641\n"
     ]
    }
   ],
   "source": [
    "device, circuit = setup_circuit(6,'ibmq_16_melbourne')\n",
    "\n",
    "calculate_entropy(device,circuit,num_shots=8192)"
   ]
  },
  {
   "cell_type": "markdown",
   "metadata": {
    "slideshow": {
     "slide_type": "slide"
    }
   },
   "source": [
    "In both cases we got values lower but close to the maximum entropy. \n",
    "\n",
    "Why is this?\n",
    "\n",
    "Well, first we will never get a value larger than the maximum entropy, otherwise it would not be maximum, secondly, in any finite number of experiments, we can expect to get relative frequencies close to the theoretical values but not exactly equal, since the probability is the number to which the relative frequencies tend as the number of trials rise, which means that we can expect, on a finite number of experiments with random number generation (quantum or not), lower values than the maximum but, as long as the random number generator is working properly, close to the maximum.\n",
    "\n",
    "When we use a pseudorandom number generator, we are using a method for random number generation that is actually deterministic, the same \"pseudorandomness\" holds for the device 'qasm_simulator', on the other hand, when we run the experiment on the actual quantum computers, we are using quantum randomness to generate the strings. Since the probability for each result is close to the balanced coin toss we get very close to our intended profile of random binary string generation.\n",
    "\n",
    "There is, of course, one point that can be risen: is quantum randomness true randomness? That is a problematic question on three points: \n",
    "\n",
    "1) What does \"true randomness mean\"?\n",
    "2) What does \"being random\" mean? \n",
    "3) What is \"quantum randomness\"?\n",
    "\n",
    "From a practical standpoint, we can satisfy ourselves that the quantum computers produce a result that closely approximates our models/mathematical criteria for randomness, in terms of probability theory. In that sense, the pragmatic and, perhaps, safer answer would be that the quantum computer running our Python coded algorithm does behave like a random number generator that closely approximates our model of a balanced coin, which means that it works as far as our technological intention goes.\n",
    "\n",
    "The Philosophical reflection on \"true randomness\" and \"quantum randomness\" leads us to the questions of truth, reality, randomness, order and the quantum dynamics. In this regard, we have no final answer, in the sense that quantum theory's formalism is, so far, open to different interpretations, all consistent with the same formalism but that differ in regards to their stance on \"reality\", \"randomness\" and the \"quantum dynamics\", so the question \"is quantum randomness true randomness?\", for now, ends in the question mark, while, at the same time, we do the calculations and run our algorithms on quantum computers that work in accordance with the formalism and behave for all practical/applicable purposes in accordance with the probabilistic conception of randomness.\n",
    "\n",
    "\n",
    "© Copyright Carlos Pedro Gonçalves 2020".
    "\n"
   ]
  }
 ],
 "metadata": {
  "kernelspec": {
   "display_name": "Python 3",
   "language": "python",
   "name": "python3"
  },
  "language_info": {
   "codemirror_mode": {
    "name": "ipython",
    "version": 3
   },
   "file_extension": ".py",
   "mimetype": "text/x-python",
   "name": "python",
   "nbconvert_exporter": "python",
   "pygments_lexer": "ipython3",
   "version": "3.7.6"
  }
 },
 "nbformat": 4,
 "nbformat_minor": 4
}
